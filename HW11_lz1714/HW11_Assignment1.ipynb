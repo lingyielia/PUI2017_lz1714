{
 "cells": [
  {
   "cell_type": "markdown",
   "metadata": {
    "run_control": {
     "frozen": false,
     "read_only": false
    }
   },
   "source": [
    "# Time series clustering exercise"
   ]
  },
  {
   "cell_type": "code",
   "execution_count": 1,
   "metadata": {},
   "outputs": [],
   "source": [
    "from __future__ import print_function \n",
    "import numpy as np\n",
    "import pandas as pd\n",
    "import matplotlib.pyplot as plt\n",
    "import os\n",
    "import geopandas as gpd\n",
    "from fiona.crs import from_epsg\n",
    "import shapely\n",
    "import urllib.request\n",
    "import requests\n",
    "import json\n",
    "from io import StringIO\n",
    "import io"
   ]
  },
  {
   "cell_type": "markdown",
   "metadata": {
    "run_control": {
     "frozen": false,
     "read_only": false
    }
   },
   "source": [
    "# Data"
   ]
  },
  {
   "cell_type": "markdown",
   "metadata": {},
   "source": [
    "Download the census bureau business data for all years 1993-2014. You can investigate using the API (I have not done it with the census bureau). I did is as you see below"
   ]
  },
  {
   "cell_type": "code",
   "execution_count": 2,
   "metadata": {
    "run_control": {
     "frozen": false,
     "read_only": false
    }
   },
   "outputs": [
    {
     "name": "stdout",
     "output_type": "stream",
     "text": [
      "--2017-12-12 01:39:05--  https://www2.census.gov/Econ2001_And_Earlier/CBP_CSV//zbp94totals.zip\n",
      "Resolving www2.census.gov... 104.99.148.110, 2600:1408:1d:38b::208c, 2600:1408:1d:386::208c\n",
      "Connecting to www2.census.gov|104.99.148.110|:443... connected.\n",
      "HTTP request sent, awaiting response... 200 OK\n",
      "Length: 611524 (597K) [application/zip]\n",
      "Saving to: 'zbp94totals.zip'\n",
      "\n",
      "zbp94totals.zip     100%[===================>] 597.19K  --.-KB/s    in 0.1s    \n",
      "\n",
      "2017-12-12 01:39:05 (5.95 MB/s) - 'zbp94totals.zip' saved [611524/611524]\n",
      "\n",
      "--2017-12-12 01:39:05--  https://www2.census.gov/Econ2001_And_Earlier/CBP_CSV//zbp95totals.zip\n",
      "Resolving www2.census.gov... 104.99.148.110, 2600:1408:1d:38b::208c, 2600:1408:1d:386::208c\n",
      "Connecting to www2.census.gov|104.99.148.110|:443... connected.\n",
      "HTTP request sent, awaiting response... 200 OK\n",
      "Length: 625328 (611K) [application/zip]\n",
      "Saving to: 'zbp95totals.zip'\n",
      "\n",
      "zbp95totals.zip     100%[===================>] 610.67K  --.-KB/s    in 0.1s    \n",
      "\n",
      "2017-12-12 01:39:06 (6.10 MB/s) - 'zbp95totals.zip' saved [625328/625328]\n",
      "\n",
      "--2017-12-12 01:39:06--  https://www2.census.gov/Econ2001_And_Earlier/CBP_CSV//zbp96totals.zip\n",
      "Resolving www2.census.gov... 104.99.148.110, 2600:1408:1d:38b::208c, 2600:1408:1d:386::208c\n",
      "Connecting to www2.census.gov|104.99.148.110|:443... connected.\n",
      "HTTP request sent, awaiting response... 200 OK\n",
      "Length: 632625 (618K) [application/zip]\n",
      "Saving to: 'zbp96totals.zip'\n",
      "\n",
      "zbp96totals.zip     100%[===================>] 617.80K  --.-KB/s    in 0.1s    \n",
      "\n",
      "2017-12-12 01:39:06 (6.34 MB/s) - 'zbp96totals.zip' saved [632625/632625]\n",
      "\n",
      "--2017-12-12 01:39:06--  https://www2.census.gov/Econ2001_And_Earlier/CBP_CSV//zbp97totals.zip\n",
      "Resolving www2.census.gov... 104.99.148.110, 2600:1408:1d:38b::208c, 2600:1408:1d:386::208c\n",
      "Connecting to www2.census.gov|104.99.148.110|:443... connected.\n",
      "HTTP request sent, awaiting response... 200 OK\n",
      "Length: 629368 (615K) [application/zip]\n",
      "Saving to: 'zbp97totals.zip'\n",
      "\n",
      "zbp97totals.zip     100%[===================>] 614.62K  3.80MB/s    in 0.2s    \n",
      "\n",
      "2017-12-12 01:39:06 (3.80 MB/s) - 'zbp97totals.zip' saved [629368/629368]\n",
      "\n",
      "--2017-12-12 01:39:06--  https://www2.census.gov/Econ2001_And_Earlier/CBP_CSV//zbp98totals.zip\n",
      "Resolving www2.census.gov... 104.99.148.110, 2600:1408:1d:38b::208c, 2600:1408:1d:386::208c\n",
      "Connecting to www2.census.gov|104.99.148.110|:443... connected.\n",
      "HTTP request sent, awaiting response... 200 OK\n",
      "Length: 617784 (603K) [application/zip]\n",
      "Saving to: 'zbp98totals.zip'\n",
      "\n",
      "zbp98totals.zip     100%[===================>] 603.30K  --.-KB/s    in 0.09s   \n",
      "\n",
      "2017-12-12 01:39:06 (6.25 MB/s) - 'zbp98totals.zip' saved [617784/617784]\n",
      "\n",
      "--2017-12-12 01:39:06--  https://www2.census.gov/Econ2001_And_Earlier/CBP_CSV//zbp99totals.zip\n",
      "Resolving www2.census.gov... 104.99.148.110, 2600:1408:1d:38b::208c, 2600:1408:1d:386::208c\n",
      "Connecting to www2.census.gov|104.99.148.110|:443... connected.\n",
      "HTTP request sent, awaiting response... 200 OK\n",
      "Length: 625814 (611K) [application/zip]\n",
      "Saving to: 'zbp99totals.zip'\n",
      "\n",
      "zbp99totals.zip     100%[===================>] 611.15K  --.-KB/s    in 0.1s    \n",
      "\n",
      "2017-12-12 01:39:06 (6.07 MB/s) - 'zbp99totals.zip' saved [625814/625814]\n",
      "\n",
      "--2017-12-12 01:39:07--  https://www2.census.gov/Econ2001_And_Earlier/CBP_CSV//zbp00totals.zip\n",
      "Resolving www2.census.gov... 104.99.148.110, 2600:1408:1d:38b::208c, 2600:1408:1d:386::208c\n",
      "Connecting to www2.census.gov|104.99.148.110|:443... connected.\n",
      "HTTP request sent, awaiting response... 200 OK\n",
      "Length: 628434 (614K) [application/zip]\n",
      "Saving to: 'zbp00totals.zip'\n",
      "\n",
      "zbp00totals.zip     100%[===================>] 613.71K  --.-KB/s    in 0.1s    \n",
      "\n",
      "2017-12-12 01:39:07 (6.11 MB/s) - 'zbp00totals.zip' saved [628434/628434]\n",
      "\n",
      "--2017-12-12 01:39:07--  https://www2.census.gov/Econ2001_And_Earlier/CBP_CSV//zbp01totals.zip\n",
      "Resolving www2.census.gov... 104.99.148.110, 2600:1408:1d:38b::208c, 2600:1408:1d:386::208c\n",
      "Connecting to www2.census.gov|104.99.148.110|:443... connected.\n",
      "HTTP request sent, awaiting response... 200 OK\n",
      "Length: 628815 (614K) [application/zip]\n",
      "Saving to: 'zbp01totals.zip'\n",
      "\n",
      "zbp01totals.zip     100%[===================>] 614.08K  --.-KB/s    in 0.09s   \n",
      "\n",
      "2017-12-12 01:39:07 (6.38 MB/s) - 'zbp01totals.zip' saved [628815/628815]\n",
      "\n",
      "--2017-12-12 01:39:07--  https://www2.census.gov/econ2002/CBP_CSV/zbp02totals.zip\n",
      "Resolving www2.census.gov... 104.99.148.110, 2600:1408:1d:38b::208c, 2600:1408:1d:386::208c\n",
      "Connecting to www2.census.gov|104.99.148.110|:443... connected.\n",
      "HTTP request sent, awaiting response... 200 OK\n",
      "Length: 620754 (606K) [application/zip]\n",
      "Saving to: 'zbp02totals.zip'\n",
      "\n",
      "zbp02totals.zip     100%[===================>] 606.21K  --.-KB/s    in 0.1s    \n",
      "\n",
      "2017-12-12 01:39:07 (5.72 MB/s) - 'zbp02totals.zip' saved [620754/620754]\n",
      "\n",
      "--2017-12-12 01:39:07--  https://www2.census.gov/econ2003/CBP_CSV/zbp03totals.zip\n",
      "Resolving www2.census.gov... 104.99.148.110, 2600:1408:1d:38b::208c, 2600:1408:1d:386::208c\n",
      "Connecting to www2.census.gov|104.99.148.110|:443... connected.\n",
      "HTTP request sent, awaiting response... 200 OK\n",
      "Length: 622790 (608K) [application/zip]\n",
      "Saving to: 'zbp03totals.zip'\n",
      "\n",
      "zbp03totals.zip     100%[===================>] 608.19K  --.-KB/s    in 0.1s    \n",
      "\n",
      "2017-12-12 01:39:07 (5.75 MB/s) - 'zbp03totals.zip' saved [622790/622790]\n",
      "\n",
      "--2017-12-12 01:39:07--  https://www2.census.gov/econ2004/CBP_CSV/zbp04totals.zip\n",
      "Resolving www2.census.gov... 104.99.148.110, 2600:1408:1d:38b::208c, 2600:1408:1d:386::208c\n",
      "Connecting to www2.census.gov|104.99.148.110|:443... connected.\n",
      "HTTP request sent, awaiting response... 200 OK\n",
      "Length: 625803 (611K) [application/zip]\n",
      "Saving to: 'zbp04totals.zip'\n",
      "\n",
      "zbp04totals.zip     100%[===================>] 611.14K  --.-KB/s    in 0.1s    \n",
      "\n",
      "2017-12-12 01:39:08 (5.71 MB/s) - 'zbp04totals.zip' saved [625803/625803]\n",
      "\n",
      "--2017-12-12 01:39:08--  https://www2.census.gov/econ2005/CBP_CSV/zbp05totals.zip\n",
      "Resolving www2.census.gov... 104.99.148.110, 2600:1408:1d:38b::208c, 2600:1408:1d:386::208c\n",
      "Connecting to www2.census.gov|104.99.148.110|:443... connected.\n",
      "HTTP request sent, awaiting response... 200 OK\n",
      "Length: 627583 (613K) [application/zip]\n",
      "Saving to: 'zbp05totals.zip'\n",
      "\n",
      "zbp05totals.zip     100%[===================>] 612.87K  --.-KB/s    in 0.09s   \n",
      "\n",
      "2017-12-12 01:39:08 (6.54 MB/s) - 'zbp05totals.zip' saved [627583/627583]\n",
      "\n",
      "--2017-12-12 01:39:08--  https://www2.census.gov/econ2006/CBP_CSV/zbp06totals.zip\n",
      "Resolving www2.census.gov... 104.99.148.110, 2600:1408:1d:38b::208c, 2600:1408:1d:386::208c\n",
      "Connecting to www2.census.gov|104.99.148.110|:443... connected.\n",
      "HTTP request sent, awaiting response... 200 OK\n",
      "Length: 629107 (614K) [application/zip]\n",
      "Saving to: 'zbp06totals.zip'\n",
      "\n",
      "zbp06totals.zip     100%[===================>] 614.36K  --.-KB/s    in 0.1s    \n",
      "\n",
      "2017-12-12 01:39:08 (6.30 MB/s) - 'zbp06totals.zip' saved [629107/629107]\n",
      "\n",
      "--2017-12-12 01:39:08--  https://www2.census.gov/econ2007/CBP_CSV/zbp07totals.zip\n",
      "Resolving www2.census.gov... 104.99.148.110, 2600:1408:1d:38b::208c, 2600:1408:1d:386::208c\n",
      "Connecting to www2.census.gov|104.99.148.110|:443... connected.\n",
      "HTTP request sent, awaiting response... 200 OK\n",
      "Length: 667754 (652K) [application/zip]\n",
      "Saving to: 'zbp07totals.zip'\n",
      "\n",
      "zbp07totals.zip     100%[===================>] 652.10K  --.-KB/s    in 0.1s    \n",
      "\n",
      "2017-12-12 01:39:08 (5.87 MB/s) - 'zbp07totals.zip' saved [667754/667754]\n",
      "\n",
      "--2017-12-12 01:39:08--  https://www2.census.gov/econ2008/CBP_CSV/zbp08totals.zip\n",
      "Resolving www2.census.gov... 104.99.148.110, 2600:1408:1d:38b::208c, 2600:1408:1d:386::208c\n",
      "Connecting to www2.census.gov|104.99.148.110|:443... connected.\n",
      "HTTP request sent, awaiting response... 200 OK\n",
      "Length: 663242 (648K) [application/zip]\n",
      "Saving to: 'zbp08totals.zip'\n",
      "\n",
      "zbp08totals.zip     100%[===================>] 647.70K  --.-KB/s    in 0.1s    \n",
      "\n",
      "2017-12-12 01:39:08 (5.85 MB/s) - 'zbp08totals.zip' saved [663242/663242]\n",
      "\n",
      "--2017-12-12 01:39:08--  https://www2.census.gov/econ2009/CBP_CSV/zbp09totals.zip\n",
      "Resolving www2.census.gov... 104.99.148.110, 2600:1408:1d:38b::208c, 2600:1408:1d:386::208c\n",
      "Connecting to www2.census.gov|104.99.148.110|:443... connected.\n",
      "HTTP request sent, awaiting response... 200 OK\n",
      "Length: 660109 (645K) [application/zip]\n",
      "Saving to: 'zbp09totals.zip'\n",
      "\n"
     ]
    },
    {
     "name": "stdout",
     "output_type": "stream",
     "text": [
      "zbp09totals.zip     100%[===================>] 644.64K  --.-KB/s    in 0.1s    \n",
      "\n",
      "2017-12-12 01:39:08 (5.61 MB/s) - 'zbp09totals.zip' saved [660109/660109]\n",
      "\n",
      "--2017-12-12 01:39:09--  https://www2.census.gov/econ2010/CBP_CSV/zbp10totals.zip\n",
      "Resolving www2.census.gov... 104.99.148.110, 2600:1408:1d:38b::208c, 2600:1408:1d:386::208c\n",
      "Connecting to www2.census.gov|104.99.148.110|:443... connected.\n",
      "HTTP request sent, awaiting response... 200 OK\n",
      "Length: 797534 (779K) [application/zip]\n",
      "Saving to: 'zbp10totals.zip'\n",
      "\n",
      "zbp10totals.zip     100%[===================>] 778.84K  --.-KB/s    in 0.1s    \n",
      "\n",
      "2017-12-12 01:39:09 (6.16 MB/s) - 'zbp10totals.zip' saved [797534/797534]\n",
      "\n",
      "--2017-12-12 01:39:09--  https://www2.census.gov/econ2011/CBP_CSV/zbp11totals.zip\n",
      "Resolving www2.census.gov... 104.99.148.110, 2600:1408:1d:38b::208c, 2600:1408:1d:386::208c\n",
      "Connecting to www2.census.gov|104.99.148.110|:443... connected.\n",
      "HTTP request sent, awaiting response... 200 OK\n",
      "Length: 795390 (777K) [application/zip]\n",
      "Saving to: 'zbp11totals.zip'\n",
      "\n",
      "zbp11totals.zip     100%[===================>] 776.75K  --.-KB/s    in 0.1s    \n",
      "\n",
      "2017-12-12 01:39:09 (5.83 MB/s) - 'zbp11totals.zip' saved [795390/795390]\n",
      "\n",
      "--2017-12-12 01:39:09--  https://www2.census.gov/econ2012/CBP_CSV/zbp12totals.zip\n",
      "Resolving www2.census.gov... 104.99.148.110, 2600:1408:1d:38b::208c, 2600:1408:1d:386::208c\n",
      "Connecting to www2.census.gov|104.99.148.110|:443... connected.\n",
      "HTTP request sent, awaiting response... 200 OK\n",
      "Length: 733541 (716K) [application/zip]\n",
      "Saving to: 'zbp12totals.zip'\n",
      "\n",
      "zbp12totals.zip     100%[===================>] 716.35K  3.06MB/s    in 0.2s    \n",
      "\n",
      "2017-12-12 01:39:09 (3.06 MB/s) - 'zbp12totals.zip' saved [733541/733541]\n",
      "\n",
      "--2017-12-12 01:39:09--  https://www2.census.gov/econ2013/CBP_CSV/zbp13totals.zip\n",
      "Resolving www2.census.gov... 104.99.148.110, 2600:1408:1d:38b::208c, 2600:1408:1d:386::208c\n",
      "Connecting to www2.census.gov|104.99.148.110|:443... connected.\n",
      "HTTP request sent, awaiting response... 200 OK\n",
      "Length: 733605 (716K) [application/zip]\n",
      "Saving to: 'zbp13totals.zip'\n",
      "\n",
      "zbp13totals.zip     100%[===================>] 716.41K  --.-KB/s    in 0.1s    \n",
      "\n",
      "2017-12-12 01:39:10 (6.68 MB/s) - 'zbp13totals.zip' saved [733605/733605]\n",
      "\n",
      "--2017-12-12 01:39:10--  https://www2.census.gov/econ2014/CBP_CSV/zbp14totals.zip\n",
      "Resolving www2.census.gov... 104.99.148.110, 2600:1408:1d:38b::208c, 2600:1408:1d:386::208c\n",
      "Connecting to www2.census.gov|104.99.148.110|:443... connected.\n",
      "HTTP request sent, awaiting response... 200 OK\n",
      "Length: 733763 (717K) [application/zip]\n",
      "Saving to: 'zbp14totals.zip'\n",
      "\n",
      "zbp14totals.zip     100%[===================>] 716.57K  --.-KB/s    in 0.1s    \n",
      "\n",
      "2017-12-12 01:39:10 (6.66 MB/s) - 'zbp14totals.zip' saved [733763/733763]\n",
      "\n"
     ]
    }
   ],
   "source": [
    "#these commands can be run on the shell and get the data with the command wget\n",
    "#the cell needs to be run only once\n",
    "!for ((y=94; y<=99; y+=1)); do wget \\\n",
    "https://www2.census.gov/Econ2001_And_Earlier/CBP_CSV//zbp$y\\totals.zip; mv \\\n",
    "zbp$y\\totals.zip $PUIDATA; done\n",
    "\n",
    "!for ((y=0; y<=1; y+=1)); do wget \\\n",
    "https://www2.census.gov/Econ2001_And_Earlier/CBP_CSV//zbp0$y\\totals.zip; mv \\\n",
    "zbp0$y\\totals.zip $PUIDATA; done\n",
    "\n",
    "!for ((y=2; y<=9; y+=1)); do wget \\\n",
    "https://www2.census.gov/econ200$y\\/CBP_CSV/zbp0$y\\totals.zip; mv \\\n",
    "zbp0$y\\totals.zip $PUIDATA; done\n",
    "\n",
    "!for ((y=10; y<=14; y+=1)); do wget \\\n",
    "https://www2.census.gov/econ20$y\\/CBP_CSV/zbp$y\\totals.zip; mv \\\n",
    "zbp$y\\totals.zip $PUIDATA; done"
   ]
  },
  {
   "cell_type": "markdown",
   "metadata": {
    "ExecuteTime": {
     "end_time": "2017-12-07T07:06:43.156591",
     "start_time": "2017-12-07T07:06:41.245257"
    },
    "run_control": {
     "frozen": false,
     "read_only": false
    }
   },
   "source": [
    " Download the NYC zipcodes shapefile. One of many ways in which you can get the zipcodes shapefile for NYC\n",
    " https://data.cityofnewyork.us/download/i8iw-xf4u/application%2Fzip\n"
   ]
  },
  {
   "cell_type": "code",
   "execution_count": 3,
   "metadata": {},
   "outputs": [
    {
     "data": {
      "text/plain": [
       "('file.gz', <http.client.HTTPMessage at 0x10b6d8cf8>)"
      ]
     },
     "execution_count": 3,
     "metadata": {},
     "output_type": "execute_result"
    }
   ],
   "source": [
    "urllib.request.urlretrieve('https://data.cityofnewyork.us/download/i8iw-xf4u/application%2Fzip', \"file.gz\")"
   ]
  },
  {
   "cell_type": "code",
   "execution_count": 4,
   "metadata": {},
   "outputs": [
    {
     "data": {
      "text/html": [
       "<div>\n",
       "<style scoped>\n",
       "    .dataframe tbody tr th:only-of-type {\n",
       "        vertical-align: middle;\n",
       "    }\n",
       "\n",
       "    .dataframe tbody tr th {\n",
       "        vertical-align: top;\n",
       "    }\n",
       "\n",
       "    .dataframe thead th {\n",
       "        text-align: right;\n",
       "    }\n",
       "</style>\n",
       "<table border=\"1\" class=\"dataframe\">\n",
       "  <thead>\n",
       "    <tr style=\"text-align: right;\">\n",
       "      <th></th>\n",
       "      <th>ZIPCODE</th>\n",
       "      <th>SHAPE_AREA</th>\n",
       "      <th>SHAPE_LEN</th>\n",
       "      <th>geometry</th>\n",
       "    </tr>\n",
       "  </thead>\n",
       "  <tbody>\n",
       "    <tr>\n",
       "      <th>0</th>\n",
       "      <td>11436</td>\n",
       "      <td>0.0</td>\n",
       "      <td>0.0</td>\n",
       "      <td>POLYGON ((1038098.251871482 188138.3800067157,...</td>\n",
       "    </tr>\n",
       "    <tr>\n",
       "      <th>1</th>\n",
       "      <td>11213</td>\n",
       "      <td>0.0</td>\n",
       "      <td>0.0</td>\n",
       "      <td>POLYGON ((1001613.712964058 186926.4395172149,...</td>\n",
       "    </tr>\n",
       "    <tr>\n",
       "      <th>2</th>\n",
       "      <td>11212</td>\n",
       "      <td>0.0</td>\n",
       "      <td>0.0</td>\n",
       "      <td>POLYGON ((1011174.275535807 183696.33770971, 1...</td>\n",
       "    </tr>\n",
       "    <tr>\n",
       "      <th>3</th>\n",
       "      <td>11225</td>\n",
       "      <td>0.0</td>\n",
       "      <td>0.0</td>\n",
       "      <td>POLYGON ((995908.3654508889 183617.6128015518,...</td>\n",
       "    </tr>\n",
       "    <tr>\n",
       "      <th>4</th>\n",
       "      <td>11218</td>\n",
       "      <td>0.0</td>\n",
       "      <td>0.0</td>\n",
       "      <td>POLYGON ((991997.1134308875 176307.4958601296,...</td>\n",
       "    </tr>\n",
       "  </tbody>\n",
       "</table>\n",
       "</div>"
      ],
      "text/plain": [
       "  ZIPCODE  SHAPE_AREA  SHAPE_LEN  \\\n",
       "0   11436         0.0        0.0   \n",
       "1   11213         0.0        0.0   \n",
       "2   11212         0.0        0.0   \n",
       "3   11225         0.0        0.0   \n",
       "4   11218         0.0        0.0   \n",
       "\n",
       "                                            geometry  \n",
       "0  POLYGON ((1038098.251871482 188138.3800067157,...  \n",
       "1  POLYGON ((1001613.712964058 186926.4395172149,...  \n",
       "2  POLYGON ((1011174.275535807 183696.33770971, 1...  \n",
       "3  POLYGON ((995908.3654508889 183617.6128015518,...  \n",
       "4  POLYGON ((991997.1134308875 176307.4958601296,...  "
      ]
     },
     "execution_count": 4,
     "metadata": {},
     "output_type": "execute_result"
    }
   ],
   "source": [
    "os.system(\"mv \" + \"file.gz \" + os.getenv(\"PUIDATA\"))\n",
    "os.system(\"unzip \" + os.getenv(\"PUIDATA\") + \"/file.gz -d \" + os.getenv(\"PUIDATA\") + \"/zipcode\")\n",
    "nyc = gpd.read_file(os.getenv(\"PUIDATA\") + \"/zipcode\" + \"/ZIP_CODE_040114.shp\")\n",
    "nyc.drop(['BLDGZIP', 'PO_NAME', 'POPULATION', 'AREA', 'STATE', 'COUNTY', 'ST_FIPS', 'CTY_FIPS', 'URL'], axis=1, inplace=True)\n",
    "nyc.head()"
   ]
  },
  {
   "cell_type": "markdown",
   "metadata": {
    "run_control": {
     "frozen": false,
     "read_only": false
    }
   },
   "source": [
    "## You can use zipfile module in python to unzip the files\n",
    "it should be install in your system, but if it is not you can get the code with wget from here\n",
    "https://github.com/python/cpython/blob/2.7/Lib/zipfile.py\n",
    "remembering to use the raw link\n",
    "(or you can use the usual shell commands, and miss the chance to learn something new)"
   ]
  },
  {
   "cell_type": "code",
   "execution_count": 5,
   "metadata": {},
   "outputs": [
    {
     "name": "stdout",
     "output_type": "stream",
     "text": [
      "--2017-12-12 01:39:12--  https://raw.githubusercontent.com/python/cpython/2.7/Lib/zipfile.py\n",
      "Resolving raw.githubusercontent.com... 151.101.208.133\n",
      "Connecting to raw.githubusercontent.com|151.101.208.133|:443... connected.\n",
      "HTTP request sent, awaiting response... 200 OK\n",
      "Length: 15060 (15K) [text/plain]\n",
      "Saving to: 'zipfile.py.2'\n",
      "\n",
      "zipfile.py.2        100%[===================>]  14.71K  --.-KB/s    in 0.009s  \n",
      "\n",
      "2017-12-12 01:39:12 (1.54 MB/s) - 'zipfile.py.2' saved [58813]\n",
      "\n"
     ]
    }
   ],
   "source": [
    "!wget https://raw.githubusercontent.com/python/cpython/2.7/Lib/zipfile.py"
   ]
  },
  {
   "cell_type": "code",
   "execution_count": 6,
   "metadata": {
    "run_control": {
     "frozen": false,
     "read_only": false
    }
   },
   "outputs": [],
   "source": [
    "import pandas as pd\n",
    "import zipfile "
   ]
  },
  {
   "cell_type": "code",
   "execution_count": 11,
   "metadata": {},
   "outputs": [],
   "source": [
    "fname_list = []\n",
    "for i in range(94, 100):\n",
    "    name = 'zbp' + str(i) + 'totals.zip'\n",
    "    fname_list.append(name)\n",
    "for i in range(0, 10):\n",
    "    name = 'zbp0' + str(i) + 'totals.zip'\n",
    "    fname_list.append(name)\n",
    "for i in range(10, 15):\n",
    "    name = 'zbp' + str(i) + 'totals.zip'\n",
    "    fname_list.append(name)"
   ]
  },
  {
   "cell_type": "code",
   "execution_count": 9,
   "metadata": {},
   "outputs": [
    {
     "name": "stdout",
     "output_type": "stream",
     "text": [
      "zbp94totals.zip done\n",
      "zbp95totals.zip done\n",
      "zbp96totals.zip done\n",
      "zbp97totals.zip done\n",
      "zbp98totals.zip done\n",
      "zbp99totals.zip done\n",
      "zbp00totals.zip done\n",
      "zbp01totals.zip done\n",
      "zbp02totals.zip done\n",
      "zbp03totals.zip done\n",
      "zbp04totals.zip done\n",
      "zbp05totals.zip done\n",
      "zbp06totals.zip done\n",
      "zbp07totals.zip done\n",
      "zbp08totals.zip done\n",
      "zbp09totals.zip done\n",
      "zbp10totals.zip done\n",
      "zbp11totals.zip done\n",
      "zbp12totals.zip done\n",
      "zbp13totals.zip done\n",
      "zbp14totals.zip done\n"
     ]
    }
   ],
   "source": [
    "for fname in fname_list:\n",
    "    zf = zipfile.ZipFile(os.getenv(\"PUIDATA\") + \"/\" + fname)\n",
    "    df = pd.read_csv(zf.open(fname.replace('.zip','.txt')))\n",
    "    df.rename(str.lower, axis='columns', inplace=True)\n",
    "    #print(df.columns)\n",
    "    df['zip'] = df['zip'].astype(str)\n",
    "    df = df[['zip', 'est']]\n",
    "    df.rename(columns={'est': fname[:5]}, inplace=True)\n",
    "    nyc = nyc.merge(df, left_on='ZIPCODE', right_on='zip')\n",
    "    nyc.drop(['zip'], axis=1, inplace=True)\n",
    "    print(fname, 'done')"
   ]
  },
  {
   "cell_type": "code",
   "execution_count": 10,
   "metadata": {},
   "outputs": [
    {
     "data": {
      "text/html": [
       "<div>\n",
       "<style scoped>\n",
       "    .dataframe tbody tr th:only-of-type {\n",
       "        vertical-align: middle;\n",
       "    }\n",
       "\n",
       "    .dataframe tbody tr th {\n",
       "        vertical-align: top;\n",
       "    }\n",
       "\n",
       "    .dataframe thead th {\n",
       "        text-align: right;\n",
       "    }\n",
       "</style>\n",
       "<table border=\"1\" class=\"dataframe\">\n",
       "  <thead>\n",
       "    <tr style=\"text-align: right;\">\n",
       "      <th></th>\n",
       "      <th>ZIPCODE</th>\n",
       "      <th>SHAPE_AREA</th>\n",
       "      <th>SHAPE_LEN</th>\n",
       "      <th>geometry</th>\n",
       "      <th>zbp94</th>\n",
       "      <th>zbp95</th>\n",
       "      <th>zbp96</th>\n",
       "      <th>zbp97</th>\n",
       "      <th>zbp98</th>\n",
       "      <th>zbp99</th>\n",
       "      <th>...</th>\n",
       "      <th>zbp05</th>\n",
       "      <th>zbp06</th>\n",
       "      <th>zbp07</th>\n",
       "      <th>zbp08</th>\n",
       "      <th>zbp09</th>\n",
       "      <th>zbp10</th>\n",
       "      <th>zbp11</th>\n",
       "      <th>zbp12</th>\n",
       "      <th>zbp13</th>\n",
       "      <th>zbp14</th>\n",
       "    </tr>\n",
       "  </thead>\n",
       "  <tbody>\n",
       "    <tr>\n",
       "      <th>0</th>\n",
       "      <td>11436</td>\n",
       "      <td>0.0</td>\n",
       "      <td>0.0</td>\n",
       "      <td>POLYGON ((1038098.251871482 188138.3800067157,...</td>\n",
       "      <td>51</td>\n",
       "      <td>50</td>\n",
       "      <td>53</td>\n",
       "      <td>51</td>\n",
       "      <td>51</td>\n",
       "      <td>58</td>\n",
       "      <td>...</td>\n",
       "      <td>82</td>\n",
       "      <td>80</td>\n",
       "      <td>84</td>\n",
       "      <td>90</td>\n",
       "      <td>92</td>\n",
       "      <td>98</td>\n",
       "      <td>101</td>\n",
       "      <td>95</td>\n",
       "      <td>99</td>\n",
       "      <td>109</td>\n",
       "    </tr>\n",
       "    <tr>\n",
       "      <th>1</th>\n",
       "      <td>11213</td>\n",
       "      <td>0.0</td>\n",
       "      <td>0.0</td>\n",
       "      <td>POLYGON ((1001613.712964058 186926.4395172149,...</td>\n",
       "      <td>406</td>\n",
       "      <td>420</td>\n",
       "      <td>433</td>\n",
       "      <td>456</td>\n",
       "      <td>476</td>\n",
       "      <td>473</td>\n",
       "      <td>...</td>\n",
       "      <td>556</td>\n",
       "      <td>565</td>\n",
       "      <td>556</td>\n",
       "      <td>592</td>\n",
       "      <td>621</td>\n",
       "      <td>675</td>\n",
       "      <td>674</td>\n",
       "      <td>726</td>\n",
       "      <td>755</td>\n",
       "      <td>772</td>\n",
       "    </tr>\n",
       "    <tr>\n",
       "      <th>2</th>\n",
       "      <td>11212</td>\n",
       "      <td>0.0</td>\n",
       "      <td>0.0</td>\n",
       "      <td>POLYGON ((1011174.275535807 183696.33770971, 1...</td>\n",
       "      <td>505</td>\n",
       "      <td>494</td>\n",
       "      <td>502</td>\n",
       "      <td>527</td>\n",
       "      <td>519</td>\n",
       "      <td>541</td>\n",
       "      <td>...</td>\n",
       "      <td>587</td>\n",
       "      <td>570</td>\n",
       "      <td>587</td>\n",
       "      <td>602</td>\n",
       "      <td>647</td>\n",
       "      <td>699</td>\n",
       "      <td>713</td>\n",
       "      <td>721</td>\n",
       "      <td>731</td>\n",
       "      <td>752</td>\n",
       "    </tr>\n",
       "    <tr>\n",
       "      <th>3</th>\n",
       "      <td>11225</td>\n",
       "      <td>0.0</td>\n",
       "      <td>0.0</td>\n",
       "      <td>POLYGON ((995908.3654508889 183617.6128015518,...</td>\n",
       "      <td>381</td>\n",
       "      <td>387</td>\n",
       "      <td>388</td>\n",
       "      <td>410</td>\n",
       "      <td>416</td>\n",
       "      <td>409</td>\n",
       "      <td>...</td>\n",
       "      <td>491</td>\n",
       "      <td>499</td>\n",
       "      <td>514</td>\n",
       "      <td>520</td>\n",
       "      <td>543</td>\n",
       "      <td>580</td>\n",
       "      <td>597</td>\n",
       "      <td>623</td>\n",
       "      <td>673</td>\n",
       "      <td>696</td>\n",
       "    </tr>\n",
       "    <tr>\n",
       "      <th>4</th>\n",
       "      <td>11218</td>\n",
       "      <td>0.0</td>\n",
       "      <td>0.0</td>\n",
       "      <td>POLYGON ((991997.1134308875 176307.4958601296,...</td>\n",
       "      <td>985</td>\n",
       "      <td>1015</td>\n",
       "      <td>1049</td>\n",
       "      <td>1075</td>\n",
       "      <td>1118</td>\n",
       "      <td>1149</td>\n",
       "      <td>...</td>\n",
       "      <td>1332</td>\n",
       "      <td>1331</td>\n",
       "      <td>1377</td>\n",
       "      <td>1397</td>\n",
       "      <td>1457</td>\n",
       "      <td>1474</td>\n",
       "      <td>1523</td>\n",
       "      <td>1605</td>\n",
       "      <td>1687</td>\n",
       "      <td>1736</td>\n",
       "    </tr>\n",
       "  </tbody>\n",
       "</table>\n",
       "<p>5 rows × 25 columns</p>\n",
       "</div>"
      ],
      "text/plain": [
       "  ZIPCODE  SHAPE_AREA  SHAPE_LEN  \\\n",
       "0   11436         0.0        0.0   \n",
       "1   11213         0.0        0.0   \n",
       "2   11212         0.0        0.0   \n",
       "3   11225         0.0        0.0   \n",
       "4   11218         0.0        0.0   \n",
       "\n",
       "                                            geometry  zbp94  zbp95  zbp96  \\\n",
       "0  POLYGON ((1038098.251871482 188138.3800067157,...     51     50     53   \n",
       "1  POLYGON ((1001613.712964058 186926.4395172149,...    406    420    433   \n",
       "2  POLYGON ((1011174.275535807 183696.33770971, 1...    505    494    502   \n",
       "3  POLYGON ((995908.3654508889 183617.6128015518,...    381    387    388   \n",
       "4  POLYGON ((991997.1134308875 176307.4958601296,...    985   1015   1049   \n",
       "\n",
       "   zbp97  zbp98  zbp99  ...    zbp05  zbp06  zbp07  zbp08  zbp09  zbp10  \\\n",
       "0     51     51     58  ...       82     80     84     90     92     98   \n",
       "1    456    476    473  ...      556    565    556    592    621    675   \n",
       "2    527    519    541  ...      587    570    587    602    647    699   \n",
       "3    410    416    409  ...      491    499    514    520    543    580   \n",
       "4   1075   1118   1149  ...     1332   1331   1377   1397   1457   1474   \n",
       "\n",
       "   zbp11  zbp12  zbp13  zbp14  \n",
       "0    101     95     99    109  \n",
       "1    674    726    755    772  \n",
       "2    713    721    731    752  \n",
       "3    597    623    673    696  \n",
       "4   1523   1605   1687   1736  \n",
       "\n",
       "[5 rows x 25 columns]"
      ]
     },
     "execution_count": 10,
     "metadata": {},
     "output_type": "execute_result"
    }
   ],
   "source": [
    "nyc.head()"
   ]
  },
  {
   "cell_type": "code",
   "execution_count": null,
   "metadata": {},
   "outputs": [],
   "source": []
  },
  {
   "cell_type": "code",
   "execution_count": null,
   "metadata": {},
   "outputs": [],
   "source": []
  },
  {
   "cell_type": "code",
   "execution_count": null,
   "metadata": {},
   "outputs": [],
   "source": []
  },
  {
   "cell_type": "code",
   "execution_count": null,
   "metadata": {},
   "outputs": [],
   "source": []
  },
  {
   "cell_type": "code",
   "execution_count": null,
   "metadata": {},
   "outputs": [],
   "source": []
  },
  {
   "cell_type": "code",
   "execution_count": null,
   "metadata": {},
   "outputs": [],
   "source": []
  },
  {
   "cell_type": "code",
   "execution_count": null,
   "metadata": {},
   "outputs": [],
   "source": []
  },
  {
   "cell_type": "code",
   "execution_count": null,
   "metadata": {},
   "outputs": [],
   "source": []
  },
  {
   "cell_type": "markdown",
   "metadata": {
    "run_control": {
     "frozen": false,
     "read_only": false
    }
   },
   "source": [
    "# Data cleaning"
   ]
  },
  {
   "cell_type": "markdown",
   "metadata": {
    "run_control": {
     "frozen": false,
     "read_only": false
    }
   },
   "source": [
    "you may need to clean your data: for some NYC zip codes there may be no info\n",
    "sanity check: you should have 20 (N_timestamps) datapoints per time series and about 250 zipcodes (Nzipcodes)\n",
    "\n",
    "\n",
    "IMPORTANT: we talked about the importance of \"whitening\" your data.\n",
    "Whitenings decorrelates the data: it makes the features independent so that the data covariance matrix is the identity matrix.\n",
    "Whitening your data in time series analysis is in most cases **wrong**: you are modifying your time behaviour. This is because of the strong correlation between features (two consecutive time stamps for the same observation, the same zip code here, are strongly correlated). Here instead you want to standardize your time series: subtract the mean and divide each time series (separately) by its standard deviation. As a sanity check (if you use skitlearn Kmeans or skitlearns kmeans2): you want your data array to be shaped Nzipcodes x Ntimestamps\n",
    "\n",
    "mydata.shape should be (Nzipcodes, Ntimestamps)\n",
    "\n",
    "mydata[i].std() shoould be 1 for all i in range(len(Nzipcodes))\n",
    "\n",
    "mydata[i].mean() should be ~0 for all i in range(len(Nzipcodes))\n",
    "\n"
   ]
  },
  {
   "cell_type": "markdown",
   "metadata": {
    "run_control": {
     "frozen": false,
     "read_only": false
    }
   },
   "source": [
    "## TASKS:\n",
    "    \n",
    "    1. get and prep your data.\n",
    "    2. cluster the NUMBER OF ESTABLISHMENTS time series with K-means in **a few** clusters (as discussed there is no real good, sound way to decide what a good number is here. try a few options, keeping in mind a few is more than a couple, but i recommand you stay within the single digit numbers)\n",
    "    3. plot the cluster centers (if you used K means those are the means of the clusters). you can plot for example the cluster centers overlayed on each time series (using the alpha channel to control the opacity in the plot may be helpful here).\n",
    "    4. Use another clustering algorithm (of your choice)\n",
    "    5. overlay your data on a NYC map: you can use shapefiles for the zip codes and different colors for different clusters\n",
    "    6. Compare the results of the 2 algorithms\n",
    "    7. attempt an interpretation. this is dangerous ground: clustering is an exploratory tool so you do not want to jump to conclusions because you see some clusters! but seeing structure in your data can inform your next moves as an investigator. \n",
    "    "
   ]
  },
  {
   "cell_type": "markdown",
   "metadata": {
    "run_control": {
     "frozen": false,
     "read_only": false
    }
   },
   "source": [
    "### The map of the clusters may look something like this"
   ]
  },
  {
   "cell_type": "code",
   "execution_count": null,
   "metadata": {
    "ExecuteTime": {
     "end_time": "2017-12-07T07:08:28.106869",
     "start_time": "2017-12-07T07:08:06.335255"
    },
    "run_control": {
     "frozen": false,
     "read_only": false
    }
   },
   "outputs": [],
   "source": [
    "..."
   ]
  },
  {
   "cell_type": "markdown",
   "metadata": {
    "run_control": {
     "frozen": false,
     "read_only": false
    }
   },
   "source": [
    "### Figure 3: \n",
    "cloropleth of  cluster centers for 5 k-means clusters of business patterns (number of businesses) at the zipcode level for NYC zipcodes: each color indicates a cluster. The business pattern time series are plotted at the top."
   ]
  },
  {
   "cell_type": "markdown",
   "metadata": {
    "run_control": {
     "frozen": false,
     "read_only": false
    }
   },
   "source": [
    "### or maybe like this, depending on which algorithm you use, and how you proceed to preprocess your data and how you cluster it. There is no one correct answer, but general trends should be retrieved."
   ]
  },
  {
   "cell_type": "code",
   "execution_count": null,
   "metadata": {
    "ExecuteTime": {
     "end_time": "2017-12-07T07:09:49.803126",
     "start_time": "2017-12-07T07:09:33.460426"
    },
    "run_control": {
     "frozen": false,
     "read_only": false
    }
   },
   "outputs": [],
   "source": [
    "..."
   ]
  },
  {
   "cell_type": "markdown",
   "metadata": {
    "run_control": {
     "frozen": false,
     "read_only": false
    }
   },
   "source": [
    "### Figure 9: \n",
    "As figures 3, 5, 7 for hierarchical agglomerative clustering in 7 clusters, with smoothed time series"
   ]
  },
  {
   "cell_type": "markdown",
   "metadata": {
    "run_control": {
     "frozen": false,
     "read_only": false
    }
   },
   "source": [
    "### And if you use hierarchical clustering and make a dandrogram it may look like this:"
   ]
  },
  {
   "cell_type": "code",
   "execution_count": null,
   "metadata": {
    "ExecuteTime": {
     "end_time": "2017-12-07T07:23:50.040050",
     "start_time": "2017-12-07T07:23:49.310680"
    },
    "run_control": {
     "frozen": false,
     "read_only": false
    },
    "scrolled": false
   },
   "outputs": [],
   "source": [
    "from PIL import Image\n",
    "Image.open(\"dandrogram.png\")"
   ]
  },
  {
   "cell_type": "code",
   "execution_count": null,
   "metadata": {
    "run_control": {
     "frozen": false,
     "read_only": false
    }
   },
   "outputs": [],
   "source": []
  }
 ],
 "metadata": {
  "anaconda-cloud": {},
  "kernelspec": {
   "display_name": "Python 3",
   "language": "python",
   "name": "python3"
  },
  "language_info": {
   "codemirror_mode": {
    "name": "ipython",
    "version": 3
   },
   "file_extension": ".py",
   "mimetype": "text/x-python",
   "name": "python",
   "nbconvert_exporter": "python",
   "pygments_lexer": "ipython3",
   "version": "3.6.1"
  },
  "toc": {
   "colors": {
    "hover_highlight": "#DAA520",
    "running_highlight": "#FF0000",
    "selected_highlight": "#FFD700"
   },
   "moveMenuLeft": true,
   "nav_menu": {
    "height": "514px",
    "width": "254px"
   },
   "navigate_menu": true,
   "number_sections": false,
   "sideBar": true,
   "threshold": 4,
   "toc_cell": false,
   "toc_section_display": "block",
   "toc_window_display": true
  }
 },
 "nbformat": 4,
 "nbformat_minor": 1
}
